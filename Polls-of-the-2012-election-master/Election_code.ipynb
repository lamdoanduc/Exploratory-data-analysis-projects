{
 "cells": [
  {
   "cell_type": "markdown",
   "metadata": {},
   "source": [
    "# Polls of the 2012 election Data\n",
    "\n",
    "The project analyzes a dataset of the the 2012 election from HuffPost Pollster to find the answer for the following questions:\n",
    "    1. Who was being polled and what was their party affiliation?\n",
    "    2. Did the poll results favor Romney or Obama?\n",
    "    3. How do undecided voters effect the poll?\n",
    "    4. Can we account for the undecided voters?\n",
    "    5. How did voter sentiment change over time?\n",
    "    6. Can we see an effect in the polls from the debates?"
   ]
  },
  {
   "cell_type": "markdown",
   "metadata": {},
   "source": [
    "Let's go ahead and start with our standard imports:"
   ]
  },
  {
   "cell_type": "code",
   "execution_count": 3,
   "metadata": {},
   "outputs": [
    {
     "data": {
      "text/html": [
       "        <script type=\"text/javascript\">\n",
       "        window.PlotlyConfig = {MathJaxConfig: 'local'};\n",
       "        if (window.MathJax) {MathJax.Hub.Config({SVG: {font: \"STIX-Web\"}});}\n",
       "        if (typeof require !== 'undefined') {\n",
       "        require.undef(\"plotly\");\n",
       "        requirejs.config({\n",
       "            paths: {\n",
       "                'plotly': ['https://cdn.plot.ly/plotly-latest.min']\n",
       "            }\n",
       "        });\n",
       "        require(['plotly'], function(Plotly) {\n",
       "            window._Plotly = Plotly;\n",
       "        });\n",
       "        }\n",
       "        </script>\n",
       "        "
      ]
     },
     "metadata": {},
     "output_type": "display_data"
    }
   ],
   "source": [
    "import pandas as pd\n",
    "import numpy as np\n",
    "import matplotlib.pyplot as plt\n",
    "import seaborn as sns\n",
    "sns.set_style('whitegrid')\n",
    "%matplotlib inline\n",
    "import plotly\n",
    "import cufflinks as cf\n",
    "cf.go_offline()\n",
    "\n",
    "from __future__ import division\n",
    "import requests \n",
    "from io import StringIO"
   ]
  },
  {
   "cell_type": "markdown",
   "metadata": {},
   "source": [
    "## Request the data from the web"
   ]
  },
  {
   "cell_type": "code",
   "execution_count": 4,
   "metadata": {},
   "outputs": [
    {
     "data": {
      "text/html": [
       "<div>\n",
       "<style scoped>\n",
       "    .dataframe tbody tr th:only-of-type {\n",
       "        vertical-align: middle;\n",
       "    }\n",
       "\n",
       "    .dataframe tbody tr th {\n",
       "        vertical-align: top;\n",
       "    }\n",
       "\n",
       "    .dataframe thead th {\n",
       "        text-align: right;\n",
       "    }\n",
       "</style>\n",
       "<table border=\"1\" class=\"dataframe\">\n",
       "  <thead>\n",
       "    <tr style=\"text-align: right;\">\n",
       "      <th></th>\n",
       "      <th>Pollster</th>\n",
       "      <th>Start Date</th>\n",
       "      <th>End Date</th>\n",
       "      <th>Entry Date/Time (ET)</th>\n",
       "      <th>Number of Observations</th>\n",
       "      <th>Population</th>\n",
       "      <th>Mode</th>\n",
       "      <th>Obama</th>\n",
       "      <th>Romney</th>\n",
       "      <th>Undecided</th>\n",
       "      <th>Other</th>\n",
       "      <th>Pollster URL</th>\n",
       "      <th>Source URL</th>\n",
       "      <th>Partisan</th>\n",
       "      <th>Affiliation</th>\n",
       "      <th>Question Text</th>\n",
       "      <th>Question Iteration</th>\n",
       "    </tr>\n",
       "  </thead>\n",
       "  <tbody>\n",
       "    <tr>\n",
       "      <th>0</th>\n",
       "      <td>Politico/GWU/Battleground</td>\n",
       "      <td>2012-11-04</td>\n",
       "      <td>2012-11-05</td>\n",
       "      <td>2012-11-06T08:40:26Z</td>\n",
       "      <td>1000.0</td>\n",
       "      <td>Likely Voters</td>\n",
       "      <td>Live Phone</td>\n",
       "      <td>47.0</td>\n",
       "      <td>47.0</td>\n",
       "      <td>6.0</td>\n",
       "      <td>NaN</td>\n",
       "      <td>http://elections.huffingtonpost.com/pollster/p...</td>\n",
       "      <td>http://www.politico.com/news/stories/1112/8338...</td>\n",
       "      <td>Nonpartisan</td>\n",
       "      <td>None</td>\n",
       "      <td>NaN</td>\n",
       "      <td>1</td>\n",
       "    </tr>\n",
       "    <tr>\n",
       "      <th>1</th>\n",
       "      <td>YouGov/Economist</td>\n",
       "      <td>2012-11-03</td>\n",
       "      <td>2012-11-05</td>\n",
       "      <td>2012-11-26T15:31:23Z</td>\n",
       "      <td>740.0</td>\n",
       "      <td>Likely Voters</td>\n",
       "      <td>Internet</td>\n",
       "      <td>49.0</td>\n",
       "      <td>47.0</td>\n",
       "      <td>3.0</td>\n",
       "      <td>NaN</td>\n",
       "      <td>http://elections.huffingtonpost.com/pollster/p...</td>\n",
       "      <td>http://cdn.yougov.com/cumulus_uploads/document...</td>\n",
       "      <td>Nonpartisan</td>\n",
       "      <td>None</td>\n",
       "      <td>NaN</td>\n",
       "      <td>1</td>\n",
       "    </tr>\n",
       "    <tr>\n",
       "      <th>2</th>\n",
       "      <td>Gravis Marketing</td>\n",
       "      <td>2012-11-03</td>\n",
       "      <td>2012-11-05</td>\n",
       "      <td>2012-11-06T09:22:02Z</td>\n",
       "      <td>872.0</td>\n",
       "      <td>Likely Voters</td>\n",
       "      <td>Automated Phone</td>\n",
       "      <td>48.0</td>\n",
       "      <td>48.0</td>\n",
       "      <td>4.0</td>\n",
       "      <td>NaN</td>\n",
       "      <td>http://elections.huffingtonpost.com/pollster/p...</td>\n",
       "      <td>http://www.gravispolls.com/2012/11/gravis-mark...</td>\n",
       "      <td>Nonpartisan</td>\n",
       "      <td>None</td>\n",
       "      <td>NaN</td>\n",
       "      <td>1</td>\n",
       "    </tr>\n",
       "    <tr>\n",
       "      <th>3</th>\n",
       "      <td>IBD/TIPP</td>\n",
       "      <td>2012-11-03</td>\n",
       "      <td>2012-11-05</td>\n",
       "      <td>2012-11-06T08:51:48Z</td>\n",
       "      <td>712.0</td>\n",
       "      <td>Likely Voters</td>\n",
       "      <td>Live Phone</td>\n",
       "      <td>50.0</td>\n",
       "      <td>49.0</td>\n",
       "      <td>NaN</td>\n",
       "      <td>1.0</td>\n",
       "      <td>http://elections.huffingtonpost.com/pollster/p...</td>\n",
       "      <td>http://news.investors.com/special-report/50841...</td>\n",
       "      <td>Nonpartisan</td>\n",
       "      <td>None</td>\n",
       "      <td>NaN</td>\n",
       "      <td>1</td>\n",
       "    </tr>\n",
       "    <tr>\n",
       "      <th>4</th>\n",
       "      <td>Rasmussen</td>\n",
       "      <td>2012-11-03</td>\n",
       "      <td>2012-11-05</td>\n",
       "      <td>2012-11-06T08:47:50Z</td>\n",
       "      <td>1500.0</td>\n",
       "      <td>Likely Voters</td>\n",
       "      <td>Automated Phone</td>\n",
       "      <td>48.0</td>\n",
       "      <td>49.0</td>\n",
       "      <td>NaN</td>\n",
       "      <td>NaN</td>\n",
       "      <td>http://elections.huffingtonpost.com/pollster/p...</td>\n",
       "      <td>http://www.rasmussenreports.com/public_content...</td>\n",
       "      <td>Nonpartisan</td>\n",
       "      <td>None</td>\n",
       "      <td>NaN</td>\n",
       "      <td>1</td>\n",
       "    </tr>\n",
       "    <tr>\n",
       "      <th>...</th>\n",
       "      <td>...</td>\n",
       "      <td>...</td>\n",
       "      <td>...</td>\n",
       "      <td>...</td>\n",
       "      <td>...</td>\n",
       "      <td>...</td>\n",
       "      <td>...</td>\n",
       "      <td>...</td>\n",
       "      <td>...</td>\n",
       "      <td>...</td>\n",
       "      <td>...</td>\n",
       "      <td>...</td>\n",
       "      <td>...</td>\n",
       "      <td>...</td>\n",
       "      <td>...</td>\n",
       "      <td>...</td>\n",
       "      <td>...</td>\n",
       "    </tr>\n",
       "    <tr>\n",
       "      <th>581</th>\n",
       "      <td>PPP (D)</td>\n",
       "      <td>2009-07-15</td>\n",
       "      <td>2009-07-16</td>\n",
       "      <td>2010-11-08T11:02:37Z</td>\n",
       "      <td>577.0</td>\n",
       "      <td>Registered Voters</td>\n",
       "      <td>Automated Phone</td>\n",
       "      <td>49.0</td>\n",
       "      <td>40.0</td>\n",
       "      <td>11.0</td>\n",
       "      <td>NaN</td>\n",
       "      <td>http://elections.huffingtonpost.com/pollster/p...</td>\n",
       "      <td>http://www.publicpolicypolling.com/pdf/surveys...</td>\n",
       "      <td>Pollster</td>\n",
       "      <td>Dem</td>\n",
       "      <td>NaN</td>\n",
       "      <td>1</td>\n",
       "    </tr>\n",
       "    <tr>\n",
       "      <th>582</th>\n",
       "      <td>PPP (D)</td>\n",
       "      <td>2009-06-12</td>\n",
       "      <td>2009-06-16</td>\n",
       "      <td>2010-11-08T10:58:00Z</td>\n",
       "      <td>638.0</td>\n",
       "      <td>Registered Voters</td>\n",
       "      <td>Automated Phone</td>\n",
       "      <td>48.0</td>\n",
       "      <td>40.0</td>\n",
       "      <td>12.0</td>\n",
       "      <td>NaN</td>\n",
       "      <td>http://elections.huffingtonpost.com/pollster/p...</td>\n",
       "      <td>http://www.publicpolicypolling.com/pdf/surveys...</td>\n",
       "      <td>Pollster</td>\n",
       "      <td>Dem</td>\n",
       "      <td>NaN</td>\n",
       "      <td>1</td>\n",
       "    </tr>\n",
       "    <tr>\n",
       "      <th>583</th>\n",
       "      <td>PPP (D)</td>\n",
       "      <td>2009-05-14</td>\n",
       "      <td>2009-05-18</td>\n",
       "      <td>2010-11-08T10:49:08Z</td>\n",
       "      <td>1000.0</td>\n",
       "      <td>Registered Voters</td>\n",
       "      <td>Automated Phone</td>\n",
       "      <td>53.0</td>\n",
       "      <td>35.0</td>\n",
       "      <td>12.0</td>\n",
       "      <td>NaN</td>\n",
       "      <td>http://elections.huffingtonpost.com/pollster/p...</td>\n",
       "      <td>http://www.publicpolicypolling.com/pdf/surveys...</td>\n",
       "      <td>Pollster</td>\n",
       "      <td>Dem</td>\n",
       "      <td>NaN</td>\n",
       "      <td>1</td>\n",
       "    </tr>\n",
       "    <tr>\n",
       "      <th>584</th>\n",
       "      <td>PPP (D)</td>\n",
       "      <td>2009-04-17</td>\n",
       "      <td>2009-04-19</td>\n",
       "      <td>2010-11-08T10:45:18Z</td>\n",
       "      <td>686.0</td>\n",
       "      <td>Registered Voters</td>\n",
       "      <td>Automated Phone</td>\n",
       "      <td>50.0</td>\n",
       "      <td>39.0</td>\n",
       "      <td>11.0</td>\n",
       "      <td>NaN</td>\n",
       "      <td>http://elections.huffingtonpost.com/pollster/p...</td>\n",
       "      <td>http://www.publicpolicypolling.com/pdf/surveys...</td>\n",
       "      <td>Pollster</td>\n",
       "      <td>Dem</td>\n",
       "      <td>NaN</td>\n",
       "      <td>1</td>\n",
       "    </tr>\n",
       "    <tr>\n",
       "      <th>585</th>\n",
       "      <td>PPP (D)</td>\n",
       "      <td>2009-03-13</td>\n",
       "      <td>2009-03-15</td>\n",
       "      <td>2010-11-08T10:36:31Z</td>\n",
       "      <td>1403.0</td>\n",
       "      <td>Registered Voters</td>\n",
       "      <td>Automated Phone</td>\n",
       "      <td>44.0</td>\n",
       "      <td>44.0</td>\n",
       "      <td>12.0</td>\n",
       "      <td>NaN</td>\n",
       "      <td>http://elections.huffingtonpost.com/pollster/p...</td>\n",
       "      <td>http://www.publicpolicypolling.com/pdf/PPP_Rel...</td>\n",
       "      <td>Pollster</td>\n",
       "      <td>Dem</td>\n",
       "      <td>NaN</td>\n",
       "      <td>1</td>\n",
       "    </tr>\n",
       "  </tbody>\n",
       "</table>\n",
       "<p>586 rows × 17 columns</p>\n",
       "</div>"
      ],
      "text/plain": [
       "                      Pollster  Start Date    End Date  Entry Date/Time (ET)  \\\n",
       "0    Politico/GWU/Battleground  2012-11-04  2012-11-05  2012-11-06T08:40:26Z   \n",
       "1             YouGov/Economist  2012-11-03  2012-11-05  2012-11-26T15:31:23Z   \n",
       "2             Gravis Marketing  2012-11-03  2012-11-05  2012-11-06T09:22:02Z   \n",
       "3                     IBD/TIPP  2012-11-03  2012-11-05  2012-11-06T08:51:48Z   \n",
       "4                    Rasmussen  2012-11-03  2012-11-05  2012-11-06T08:47:50Z   \n",
       "..                         ...         ...         ...                   ...   \n",
       "581                    PPP (D)  2009-07-15  2009-07-16  2010-11-08T11:02:37Z   \n",
       "582                    PPP (D)  2009-06-12  2009-06-16  2010-11-08T10:58:00Z   \n",
       "583                    PPP (D)  2009-05-14  2009-05-18  2010-11-08T10:49:08Z   \n",
       "584                    PPP (D)  2009-04-17  2009-04-19  2010-11-08T10:45:18Z   \n",
       "585                    PPP (D)  2009-03-13  2009-03-15  2010-11-08T10:36:31Z   \n",
       "\n",
       "     Number of Observations         Population             Mode  Obama  \\\n",
       "0                    1000.0      Likely Voters       Live Phone   47.0   \n",
       "1                     740.0      Likely Voters         Internet   49.0   \n",
       "2                     872.0      Likely Voters  Automated Phone   48.0   \n",
       "3                     712.0      Likely Voters       Live Phone   50.0   \n",
       "4                    1500.0      Likely Voters  Automated Phone   48.0   \n",
       "..                      ...                ...              ...    ...   \n",
       "581                   577.0  Registered Voters  Automated Phone   49.0   \n",
       "582                   638.0  Registered Voters  Automated Phone   48.0   \n",
       "583                  1000.0  Registered Voters  Automated Phone   53.0   \n",
       "584                   686.0  Registered Voters  Automated Phone   50.0   \n",
       "585                  1403.0  Registered Voters  Automated Phone   44.0   \n",
       "\n",
       "     Romney  Undecided  Other  \\\n",
       "0      47.0        6.0    NaN   \n",
       "1      47.0        3.0    NaN   \n",
       "2      48.0        4.0    NaN   \n",
       "3      49.0        NaN    1.0   \n",
       "4      49.0        NaN    NaN   \n",
       "..      ...        ...    ...   \n",
       "581    40.0       11.0    NaN   \n",
       "582    40.0       12.0    NaN   \n",
       "583    35.0       12.0    NaN   \n",
       "584    39.0       11.0    NaN   \n",
       "585    44.0       12.0    NaN   \n",
       "\n",
       "                                          Pollster URL  \\\n",
       "0    http://elections.huffingtonpost.com/pollster/p...   \n",
       "1    http://elections.huffingtonpost.com/pollster/p...   \n",
       "2    http://elections.huffingtonpost.com/pollster/p...   \n",
       "3    http://elections.huffingtonpost.com/pollster/p...   \n",
       "4    http://elections.huffingtonpost.com/pollster/p...   \n",
       "..                                                 ...   \n",
       "581  http://elections.huffingtonpost.com/pollster/p...   \n",
       "582  http://elections.huffingtonpost.com/pollster/p...   \n",
       "583  http://elections.huffingtonpost.com/pollster/p...   \n",
       "584  http://elections.huffingtonpost.com/pollster/p...   \n",
       "585  http://elections.huffingtonpost.com/pollster/p...   \n",
       "\n",
       "                                            Source URL     Partisan  \\\n",
       "0    http://www.politico.com/news/stories/1112/8338...  Nonpartisan   \n",
       "1    http://cdn.yougov.com/cumulus_uploads/document...  Nonpartisan   \n",
       "2    http://www.gravispolls.com/2012/11/gravis-mark...  Nonpartisan   \n",
       "3    http://news.investors.com/special-report/50841...  Nonpartisan   \n",
       "4    http://www.rasmussenreports.com/public_content...  Nonpartisan   \n",
       "..                                                 ...          ...   \n",
       "581  http://www.publicpolicypolling.com/pdf/surveys...     Pollster   \n",
       "582  http://www.publicpolicypolling.com/pdf/surveys...     Pollster   \n",
       "583  http://www.publicpolicypolling.com/pdf/surveys...     Pollster   \n",
       "584  http://www.publicpolicypolling.com/pdf/surveys...     Pollster   \n",
       "585  http://www.publicpolicypolling.com/pdf/PPP_Rel...     Pollster   \n",
       "\n",
       "    Affiliation  Question Text  Question Iteration  \n",
       "0          None            NaN                   1  \n",
       "1          None            NaN                   1  \n",
       "2          None            NaN                   1  \n",
       "3          None            NaN                   1  \n",
       "4          None            NaN                   1  \n",
       "..          ...            ...                 ...  \n",
       "581         Dem            NaN                   1  \n",
       "582         Dem            NaN                   1  \n",
       "583         Dem            NaN                   1  \n",
       "584         Dem            NaN                   1  \n",
       "585         Dem            NaN                   1  \n",
       "\n",
       "[586 rows x 17 columns]"
      ]
     },
     "execution_count": 4,
     "metadata": {},
     "output_type": "execute_result"
    }
   ],
   "source": [
    "url='http://elections.huffingtonpost.com/pollster/2012-general-election-romney-vs-obama.csv'\n",
    "source=requests.get(url).text\n",
    "\n",
    "df_data=StringIO(source)\n",
    "df = pd.read_csv(df_data)\n",
    "df"
   ]
  },
  {
   "cell_type": "markdown",
   "metadata": {},
   "source": [
    "##     1. Who was being polled and what was their party affiliation?\n"
   ]
  },
  {
   "cell_type": "code",
   "execution_count": 5,
   "metadata": {},
   "outputs": [
    {
     "data": {
      "text/plain": [
       "None     480\n",
       "Dem       93\n",
       "Rep        9\n",
       "Other      4\n",
       "Name: Affiliation, dtype: int64"
      ]
     },
     "execution_count": 5,
     "metadata": {},
     "output_type": "execute_result"
    }
   ],
   "source": [
    "df['Affiliation'].value_counts()"
   ]
  },
  {
   "cell_type": "code",
   "execution_count": 6,
   "metadata": {},
   "outputs": [
    {
     "data": {
      "image/png": "[encoded data removed]",
      "text/plain": [
       "<Figure size 432x288 with 1 Axes>"
      ]
     },
     "metadata": {},
     "output_type": "display_data"
    }
   ],
   "source": [
    "sns.countplot('Affiliation',data=df,hue='Population')\n",
    "plt.savefig('01_affiliation.png',dpi=200)"
   ]
  },
  {
   "cell_type": "markdown",
   "metadata": {},
   "source": [
    "##     2. Did the poll results favor Romney or Obama? and\n",
    "##     3. How do undecided voters effect the poll?"
   ]
  },
  {
   "cell_type": "code",
   "execution_count": 19,
   "metadata": {},
   "outputs": [
    {
     "data": {
      "image/png": "[encoded data removed]",
      "text/plain": [
       "<Figure size 432x504 with 1 Axes>"
      ]
     },
     "metadata": {},
     "output_type": "display_data"
    }
   ],
   "source": [
    "df[['Obama','Romney','Undecided']].mean().plot(figsize=(6,7),kind='bar',yerr=df[['Obama','Romney','Undecided']].std())\n",
    "plt.savefig('01_pool_results.png',dpi=200)"
   ]
  },
  {
   "cell_type": "markdown",
   "metadata": {},
   "source": [
    "So the undecided factor is decisive!"
   ]
  },
  {
   "cell_type": "markdown",
   "metadata": {},
   "source": [
    "## 5. How did voter sentiment change over time?"
   ]
  },
  {
   "cell_type": "code",
   "execution_count": 8,
   "metadata": {},
   "outputs": [
    {
     "data": {
      "image/png": "[encoded data removed]",
      "text/plain": [
       "<Figure size 432x288 with 1 Axes>"
      ]
     },
     "metadata": {},
     "output_type": "display_data"
    }
   ],
   "source": [
    "# Quick plot of sentiment in the polls versus time.\n",
    "df.plot(x='End Date',y=['Obama','Romney','Undecided'],marker='o',linestyle='')\n",
    "plt.savefig('01_sentiment_over_time.png',dpi=200)"
   ]
  },
  {
   "cell_type": "markdown",
   "metadata": {
    "collapsed": true
   },
   "source": [
    "##     6. Can we see an effect in the polls from the debates?"
   ]
  },
  {
   "cell_type": "markdown",
   "metadata": {
    "collapsed": true
   },
   "source": [
    "### The difference between Obama and Romney"
   ]
  },
  {
   "cell_type": "code",
   "execution_count": 9,
   "metadata": {},
   "outputs": [
    {
     "data": {
      "image/png": "[encoded data removed]",
      "text/plain": [
       "<Figure size 864x288 with 1 Axes>"
      ]
     },
     "metadata": {},
     "output_type": "display_data"
    }
   ],
   "source": [
    "# Create new a column called 'Difference'\n",
    "df['Difference'] = (df['Obama']-df['Romney'])/100\n",
    "\n",
    "## Plot the Difference\n",
    "\n",
    "fig = df.plot('Start Date','Difference',figsize=(12,4),marker='o',linestyle='-')\n",
    "plt.savefig('01_Difference.png',pdi=200)"
   ]
  },
  {
   "cell_type": "markdown",
   "metadata": {},
   "source": [
    "### The difference right after the debates: Oct 3rd, Oct 11, and Oct 22nd"
   ]
  },
  {
   "cell_type": "code",
   "execution_count": 10,
   "metadata": {},
   "outputs": [],
   "source": [
    "# For timestamps\n",
    "from datetime import datetime"
   ]
  },
  {
   "cell_type": "code",
   "execution_count": 11,
   "metadata": {},
   "outputs": [],
   "source": [
    "# Groupby 'Start Date'\n",
    "\n",
    "df1 = df.groupby('Start Date').mean()#as_index=False).mean()"
   ]
  },
  {
   "cell_type": "code",
   "execution_count": 12,
   "metadata": {},
   "outputs": [],
   "source": [
    "# convert the date to real date\n",
    "df1.index=pd.to_datetime(df1.index)"
   ]
  },
  {
   "cell_type": "code",
   "execution_count": 13,
   "metadata": {},
   "outputs": [
    {
     "data": {
      "text/html": [
       "<div>\n",
       "<style scoped>\n",
       "    .dataframe tbody tr th:only-of-type {\n",
       "        vertical-align: middle;\n",
       "    }\n",
       "\n",
       "    .dataframe tbody tr th {\n",
       "        vertical-align: top;\n",
       "    }\n",
       "\n",
       "    .dataframe thead th {\n",
       "        text-align: right;\n",
       "    }\n",
       "</style>\n",
       "<table border=\"1\" class=\"dataframe\">\n",
       "  <thead>\n",
       "    <tr style=\"text-align: right;\">\n",
       "      <th></th>\n",
       "      <th>Number of Observations</th>\n",
       "      <th>Obama</th>\n",
       "      <th>Romney</th>\n",
       "      <th>Undecided</th>\n",
       "      <th>Other</th>\n",
       "      <th>Question Text</th>\n",
       "      <th>Question Iteration</th>\n",
       "      <th>Difference</th>\n",
       "    </tr>\n",
       "    <tr>\n",
       "      <th>Start Date</th>\n",
       "      <th></th>\n",
       "      <th></th>\n",
       "      <th></th>\n",
       "      <th></th>\n",
       "      <th></th>\n",
       "      <th></th>\n",
       "      <th></th>\n",
       "      <th></th>\n",
       "    </tr>\n",
       "  </thead>\n",
       "  <tbody>\n",
       "    <tr>\n",
       "      <th>2012-10-01</th>\n",
       "      <td>1746.0</td>\n",
       "      <td>48.500000</td>\n",
       "      <td>46.000000</td>\n",
       "      <td>3.0</td>\n",
       "      <td>NaN</td>\n",
       "      <td>NaN</td>\n",
       "      <td>1</td>\n",
       "      <td>0.025000</td>\n",
       "    </tr>\n",
       "    <tr>\n",
       "      <th>2012-10-02</th>\n",
       "      <td>590.0</td>\n",
       "      <td>49.000000</td>\n",
       "      <td>45.000000</td>\n",
       "      <td>6.0</td>\n",
       "      <td>NaN</td>\n",
       "      <td>NaN</td>\n",
       "      <td>1</td>\n",
       "      <td>0.040000</td>\n",
       "    </tr>\n",
       "    <tr>\n",
       "      <th>2012-10-04</th>\n",
       "      <td>1061.5</td>\n",
       "      <td>45.833333</td>\n",
       "      <td>48.666667</td>\n",
       "      <td>6.0</td>\n",
       "      <td>NaN</td>\n",
       "      <td>NaN</td>\n",
       "      <td>1</td>\n",
       "      <td>-0.028333</td>\n",
       "    </tr>\n",
       "    <tr>\n",
       "      <th>2012-10-05</th>\n",
       "      <td>1000.0</td>\n",
       "      <td>46.000000</td>\n",
       "      <td>46.500000</td>\n",
       "      <td>7.0</td>\n",
       "      <td>1.0</td>\n",
       "      <td>NaN</td>\n",
       "      <td>1</td>\n",
       "      <td>-0.005000</td>\n",
       "    </tr>\n",
       "    <tr>\n",
       "      <th>2012-10-06</th>\n",
       "      <td>895.0</td>\n",
       "      <td>46.500000</td>\n",
       "      <td>45.500000</td>\n",
       "      <td>4.5</td>\n",
       "      <td>3.0</td>\n",
       "      <td>NaN</td>\n",
       "      <td>1</td>\n",
       "      <td>0.010000</td>\n",
       "    </tr>\n",
       "  </tbody>\n",
       "</table>\n",
       "</div>"
      ],
      "text/plain": [
       "            Number of Observations      Obama     Romney  Undecided  Other  \\\n",
       "Start Date                                                                   \n",
       "2012-10-01                  1746.0  48.500000  46.000000        3.0    NaN   \n",
       "2012-10-02                   590.0  49.000000  45.000000        6.0    NaN   \n",
       "2012-10-04                  1061.5  45.833333  48.666667        6.0    NaN   \n",
       "2012-10-05                  1000.0  46.000000  46.500000        7.0    1.0   \n",
       "2012-10-06                   895.0  46.500000  45.500000        4.5    3.0   \n",
       "\n",
       "            Question Text  Question Iteration  Difference  \n",
       "Start Date                                                 \n",
       "2012-10-01            NaN                   1    0.025000  \n",
       "2012-10-02            NaN                   1    0.040000  \n",
       "2012-10-04            NaN                   1   -0.028333  \n",
       "2012-10-05            NaN                   1   -0.005000  \n",
       "2012-10-06            NaN                   1    0.010000  "
      ]
     },
     "execution_count": 13,
     "metadata": {},
     "output_type": "execute_result"
    }
   ],
   "source": [
    "# create a dataframe for Oct only\n",
    "df2=df1.loc['2012-10-01':'2012-10-31']\n",
    "df2.head()"
   ]
  },
  {
   "cell_type": "code",
   "execution_count": 16,
   "metadata": {},
   "outputs": [
    {
     "data": {
      "text/plain": [
       "<matplotlib.lines.Line2D at 0x1c1026ca58>"
      ]
     },
     "execution_count": 16,
     "metadata": {},
     "output_type": "execute_result"
    },
    {
     "data": {
      "image/png": "[encoded data removed]",
      "text/plain": [
       "<Figure size 432x288 with 1 Axes>"
      ]
     },
     "metadata": {},
     "output_type": "display_data"
    }
   ],
   "source": [
    "df2['Difference'].plot(marker='s',linestyle='-')\n",
    "plt.savefig('01_result_after_debates.png',dpi=200)\n",
    "plt.axvline(x='2012-10-03', linewidth=4, color='grey')\n",
    "plt.axvline(x='2012-10-11', linewidth=4, color='grey')\n",
    "plt.axvline(x='2012-10-22', linewidth=4, color='grey')"
   ]
  },
  {
   "cell_type": "code",
   "execution_count": null,
   "metadata": {},
   "outputs": [],
   "source": []
  }
 ],
 "metadata": {
  "kernelspec": {
   "display_name": "Python 3",
   "language": "python",
   "name": "python3"
  },
  "language_info": {
   "codemirror_mode": {
    "name": "ipython",
    "version": 3
   },
   "file_extension": ".py",
   "mimetype": "text/x-python",
   "name": "python",
   "nbconvert_exporter": "python",
   "pygments_lexer": "ipython3",
   "version": "3.6.8"
  }
 },
 "nbformat": 4,
 "nbformat_minor": 1
}
